{
  "nbformat": 4,
  "nbformat_minor": 0,
  "metadata": {
    "colab": {
      "name": "CDD_ML_Part_3_Acetylcholinesterase_Descriptor_Dataset_Preparation.ipynb",
      "provenance": [],
      "collapsed_sections": [],
      "include_colab_link": true
    },
    "kernelspec": {
      "name": "python3",
      "display_name": "Python 3"
    }
  },
  "cells": [
    {
      "cell_type": "markdown",
      "metadata": {
        "id": "view-in-github",
        "colab_type": "text"
      },
      "source": [
        "<a href=\"https://colab.research.google.com/github/diyaarul2981/HBStage2ML/blob/main/CDD_ML_Part_3_Acetylcholinesterase_Descriptor_Dataset_Preparation.ipynb\" target=\"_parent\"><img src=\"https://colab.research.google.com/assets/colab-badge.svg\" alt=\"Open In Colab\"/></a>"
      ]
    },
    {
      "cell_type": "code",
      "metadata": {
        "id": "tu7AofcAZwFY"
      },
      "source": [
        ""
      ],
      "execution_count": null,
      "outputs": []
    },
    {
      "cell_type": "markdown",
      "metadata": {
        "id": "l0Y7_lgN4jzM"
      },
      "source": [
        "# **Bioinformatics Project - Computational Drug Discovery [Part 3] Descriptor Calculation and Dataset Preparation**\n",
        "\n",
        "Chanin Nantasenamat\n",
        "\n",
        "[*'Data Professor' YouTube channel*](http://youtube.com/dataprofessor)\n",
        "\n",
        "In this Jupyter notebook, we will be building a real-life **data science project** that you can include in your **data science portfolio**. Particularly, we will be building a machine learning model using the ChEMBL bioactivity data.\n",
        "\n",
        "In **Part 3**, we will be calculating molecular descriptors that are essentially quantitative description of the compounds in the dataset. Finally, we will be preparing this into a dataset for subsequent model building in Part 4.\n",
        "\n",
        "---"
      ]
    },
    {
      "cell_type": "markdown",
      "metadata": {
        "id": "o-4IOizard4P"
      },
      "source": [
        "## **Download PaDEL-Descriptor**"
      ]
    },
    {
      "cell_type": "code",
      "metadata": {
        "id": "H0mjQ2PcrSe5",
        "colab": {
          "base_uri": "https://localhost:8080/"
        },
        "outputId": "f2eb6ec3-910f-4553-992f-ed2b3b2dcd95"
      },
      "source": [
        "! wget https://github.com/dataprofessor/bioinformatics/raw/master/padel.zip\n",
        "! wget https://github.com/dataprofessor/bioinformatics/raw/master/padel.sh"
      ],
      "execution_count": 1,
      "outputs": [
        {
          "output_type": "stream",
          "text": [
            "--2021-08-18 17:30:37--  https://github.com/dataprofessor/bioinformatics/raw/master/padel.zip\n",
            "Resolving github.com (github.com)... 192.30.255.112\n",
            "Connecting to github.com (github.com)|192.30.255.112|:443... connected.\n",
            "HTTP request sent, awaiting response... 302 Found\n",
            "Location: https://raw.githubusercontent.com/dataprofessor/bioinformatics/master/padel.zip [following]\n",
            "--2021-08-18 17:30:37--  https://raw.githubusercontent.com/dataprofessor/bioinformatics/master/padel.zip\n",
            "Resolving raw.githubusercontent.com (raw.githubusercontent.com)... 185.199.110.133, 185.199.108.133, 185.199.111.133, ...\n",
            "Connecting to raw.githubusercontent.com (raw.githubusercontent.com)|185.199.110.133|:443... connected.\n",
            "HTTP request sent, awaiting response... 200 OK\n",
            "Length: 25768637 (25M) [application/zip]\n",
            "Saving to: ‘padel.zip’\n",
            "\n",
            "padel.zip           100%[===================>]  24.57M   164MB/s    in 0.2s    \n",
            "\n",
            "2021-08-18 17:30:38 (164 MB/s) - ‘padel.zip’ saved [25768637/25768637]\n",
            "\n",
            "--2021-08-18 17:30:38--  https://github.com/dataprofessor/bioinformatics/raw/master/padel.sh\n",
            "Resolving github.com (github.com)... 192.30.255.112\n",
            "Connecting to github.com (github.com)|192.30.255.112|:443... connected.\n",
            "HTTP request sent, awaiting response... 302 Found\n",
            "Location: https://raw.githubusercontent.com/dataprofessor/bioinformatics/master/padel.sh [following]\n",
            "--2021-08-18 17:30:38--  https://raw.githubusercontent.com/dataprofessor/bioinformatics/master/padel.sh\n",
            "Resolving raw.githubusercontent.com (raw.githubusercontent.com)... 185.199.108.133, 185.199.109.133, 185.199.110.133, ...\n",
            "Connecting to raw.githubusercontent.com (raw.githubusercontent.com)|185.199.108.133|:443... connected.\n",
            "HTTP request sent, awaiting response... 200 OK\n",
            "Length: 231 [text/plain]\n",
            "Saving to: ‘padel.sh’\n",
            "\n",
            "padel.sh            100%[===================>]     231  --.-KB/s    in 0s      \n",
            "\n",
            "2021-08-18 17:30:39 (9.97 MB/s) - ‘padel.sh’ saved [231/231]\n",
            "\n"
          ],
          "name": "stdout"
        }
      ]
    },
    {
      "cell_type": "code",
      "metadata": {
        "id": "64HnTL4tS-nA",
        "colab": {
          "base_uri": "https://localhost:8080/"
        },
        "outputId": "6fd51aac-dff2-4f71-ea1c-2e192c943b36"
      },
      "source": [
        "! unzip padel.zip"
      ],
      "execution_count": 2,
      "outputs": [
        {
          "output_type": "stream",
          "text": [
            "Archive:  padel.zip\n",
            "   creating: PaDEL-Descriptor/\n",
            "  inflating: __MACOSX/._PaDEL-Descriptor  \n",
            "  inflating: PaDEL-Descriptor/MACCSFingerprinter.xml  \n",
            "  inflating: __MACOSX/PaDEL-Descriptor/._MACCSFingerprinter.xml  \n",
            "  inflating: PaDEL-Descriptor/AtomPairs2DFingerprinter.xml  \n",
            "  inflating: __MACOSX/PaDEL-Descriptor/._AtomPairs2DFingerprinter.xml  \n",
            "  inflating: PaDEL-Descriptor/EStateFingerprinter.xml  \n",
            "  inflating: __MACOSX/PaDEL-Descriptor/._EStateFingerprinter.xml  \n",
            "  inflating: PaDEL-Descriptor/Fingerprinter.xml  \n",
            "  inflating: __MACOSX/PaDEL-Descriptor/._Fingerprinter.xml  \n",
            "  inflating: PaDEL-Descriptor/.DS_Store  \n",
            "  inflating: __MACOSX/PaDEL-Descriptor/._.DS_Store  \n",
            "   creating: PaDEL-Descriptor/license/\n",
            "  inflating: __MACOSX/PaDEL-Descriptor/._license  \n",
            "  inflating: PaDEL-Descriptor/KlekotaRothFingerprintCount.xml  \n",
            "  inflating: __MACOSX/PaDEL-Descriptor/._KlekotaRothFingerprintCount.xml  \n",
            "  inflating: PaDEL-Descriptor/config  \n",
            "  inflating: __MACOSX/PaDEL-Descriptor/._config  \n",
            "  inflating: PaDEL-Descriptor/PubchemFingerprinter.xml  \n",
            "  inflating: __MACOSX/PaDEL-Descriptor/._PubchemFingerprinter.xml  \n",
            "  inflating: PaDEL-Descriptor/ExtendedFingerprinter.xml  \n",
            "  inflating: __MACOSX/PaDEL-Descriptor/._ExtendedFingerprinter.xml  \n",
            "  inflating: PaDEL-Descriptor/KlekotaRothFingerprinter.xml  \n",
            "  inflating: __MACOSX/PaDEL-Descriptor/._KlekotaRothFingerprinter.xml  \n",
            "  inflating: PaDEL-Descriptor/GraphOnlyFingerprinter.xml  \n",
            "  inflating: __MACOSX/PaDEL-Descriptor/._GraphOnlyFingerprinter.xml  \n",
            "  inflating: PaDEL-Descriptor/SubstructureFingerprinter.xml  \n",
            "  inflating: __MACOSX/PaDEL-Descriptor/._SubstructureFingerprinter.xml  \n",
            "  inflating: PaDEL-Descriptor/Descriptors.xls  \n",
            "  inflating: __MACOSX/PaDEL-Descriptor/._Descriptors.xls  \n",
            "   creating: PaDEL-Descriptor/lib/\n",
            "  inflating: __MACOSX/PaDEL-Descriptor/._lib  \n",
            "  inflating: PaDEL-Descriptor/PaDEL-Descriptor.jar  \n",
            "  inflating: __MACOSX/PaDEL-Descriptor/._PaDEL-Descriptor.jar  \n",
            "  inflating: PaDEL-Descriptor/SubstructureFingerprintCount.xml  \n",
            "  inflating: __MACOSX/PaDEL-Descriptor/._SubstructureFingerprintCount.xml  \n",
            "  inflating: PaDEL-Descriptor/AtomPairs2DFingerprintCount.xml  \n",
            "  inflating: __MACOSX/PaDEL-Descriptor/._AtomPairs2DFingerprintCount.xml  \n",
            "  inflating: PaDEL-Descriptor/descriptors.xml  \n",
            "  inflating: __MACOSX/PaDEL-Descriptor/._descriptors.xml  \n",
            "  inflating: PaDEL-Descriptor/license/lgpl-2.1.txt  \n",
            "  inflating: __MACOSX/PaDEL-Descriptor/license/._lgpl-2.1.txt  \n",
            "  inflating: PaDEL-Descriptor/license/LICENSE.txt  \n",
            "  inflating: __MACOSX/PaDEL-Descriptor/license/._LICENSE.txt  \n",
            "  inflating: PaDEL-Descriptor/license/README - CDK  \n",
            "  inflating: __MACOSX/PaDEL-Descriptor/license/._README - CDK  \n",
            "  inflating: PaDEL-Descriptor/license/lgpl.license  \n",
            "  inflating: __MACOSX/PaDEL-Descriptor/license/._lgpl.license  \n",
            "  inflating: PaDEL-Descriptor/lib/ambit2-core-2.4.7-SNAPSHOT(3).jar  \n",
            "  inflating: __MACOSX/PaDEL-Descriptor/lib/._ambit2-core-2.4.7-SNAPSHOT(3).jar  \n",
            "  inflating: PaDEL-Descriptor/lib/libPaDEL-Jobs(6).jar  \n",
            "  inflating: __MACOSX/PaDEL-Descriptor/lib/._libPaDEL-Jobs(6).jar  \n",
            "  inflating: PaDEL-Descriptor/lib/libPaDEL.jar  \n",
            "  inflating: __MACOSX/PaDEL-Descriptor/lib/._libPaDEL.jar  \n",
            "  inflating: PaDEL-Descriptor/lib/jgrapht-0.6.0(4).jar  \n",
            "  inflating: __MACOSX/PaDEL-Descriptor/lib/._jgrapht-0.6.0(4).jar  \n",
            "  inflating: PaDEL-Descriptor/lib/commons-cli-1.2(2).jar  \n",
            "  inflating: __MACOSX/PaDEL-Descriptor/lib/._commons-cli-1.2(2).jar  \n",
            "  inflating: PaDEL-Descriptor/lib/xom-1.1(1).jar  \n",
            "  inflating: __MACOSX/PaDEL-Descriptor/lib/._xom-1.1(1).jar  \n",
            "  inflating: PaDEL-Descriptor/lib/swing-worker-1.1.jar  \n",
            "  inflating: __MACOSX/PaDEL-Descriptor/lib/._swing-worker-1.1.jar  \n",
            "  inflating: PaDEL-Descriptor/lib/commons-cli-1.2(3).jar  \n",
            "  inflating: __MACOSX/PaDEL-Descriptor/lib/._commons-cli-1.2(3).jar  \n",
            "  inflating: PaDEL-Descriptor/lib/jgrapht-0.6.0(5).jar  \n",
            "  inflating: __MACOSX/PaDEL-Descriptor/lib/._jgrapht-0.6.0(5).jar  \n",
            "  inflating: PaDEL-Descriptor/lib/jama(1).jar  \n",
            "  inflating: __MACOSX/PaDEL-Descriptor/lib/._jama(1).jar  \n",
            "  inflating: PaDEL-Descriptor/lib/appframework-1.0.3.jar  \n",
            "  inflating: __MACOSX/PaDEL-Descriptor/lib/._appframework-1.0.3.jar  \n",
            "  inflating: PaDEL-Descriptor/lib/libPaDEL-Jobs(7).jar  \n",
            "  inflating: __MACOSX/PaDEL-Descriptor/lib/._libPaDEL-Jobs(7).jar  \n",
            "  inflating: PaDEL-Descriptor/lib/vecmath1.2-1.14.jar  \n",
            "  inflating: __MACOSX/PaDEL-Descriptor/lib/._vecmath1.2-1.14.jar  \n",
            "  inflating: PaDEL-Descriptor/lib/ambit2-smarts-2.4.7-SNAPSHOT(6).jar  \n",
            "  inflating: __MACOSX/PaDEL-Descriptor/lib/._ambit2-smarts-2.4.7-SNAPSHOT(6).jar  \n",
            "  inflating: PaDEL-Descriptor/lib/ambit2-core-2.4.7-SNAPSHOT(2).jar  \n",
            "  inflating: __MACOSX/PaDEL-Descriptor/lib/._ambit2-core-2.4.7-SNAPSHOT(2).jar  \n",
            "  inflating: PaDEL-Descriptor/lib/jama(6).jar  \n",
            "  inflating: __MACOSX/PaDEL-Descriptor/lib/._jama(6).jar  \n",
            "  inflating: PaDEL-Descriptor/lib/jgrapht-0.6.0(2).jar  \n",
            "  inflating: __MACOSX/PaDEL-Descriptor/lib/._jgrapht-0.6.0(2).jar  \n",
            "  inflating: PaDEL-Descriptor/lib/libPaDEL-Descriptor(3).jar  \n",
            "  inflating: __MACOSX/PaDEL-Descriptor/lib/._libPaDEL-Descriptor(3).jar  \n",
            "  inflating: PaDEL-Descriptor/lib/commons-cli-1.2(4).jar  \n",
            "  inflating: __MACOSX/PaDEL-Descriptor/lib/._commons-cli-1.2(4).jar  \n",
            "  inflating: PaDEL-Descriptor/lib/ambit2-base-2.4.7-SNAPSHOT.jar  \n",
            "  inflating: __MACOSX/PaDEL-Descriptor/lib/._ambit2-base-2.4.7-SNAPSHOT.jar  \n",
            "  inflating: PaDEL-Descriptor/lib/ambit2-smarts-2.4.7-SNAPSHOT(1).jar  \n",
            "  inflating: __MACOSX/PaDEL-Descriptor/lib/._ambit2-smarts-2.4.7-SNAPSHOT(1).jar  \n",
            "  inflating: PaDEL-Descriptor/lib/commons-cli-1.2.jar  \n",
            "  inflating: __MACOSX/PaDEL-Descriptor/lib/._commons-cli-1.2.jar  \n",
            "  inflating: PaDEL-Descriptor/lib/commons-cli-1.2(8).jar  \n",
            "  inflating: __MACOSX/PaDEL-Descriptor/lib/._commons-cli-1.2(8).jar  \n",
            "  inflating: PaDEL-Descriptor/lib/jgrapht-0.6.0.jar  \n",
            "  inflating: __MACOSX/PaDEL-Descriptor/lib/._jgrapht-0.6.0.jar  \n",
            "  inflating: PaDEL-Descriptor/lib/libPaDEL-Jobs(1).jar  \n",
            "  inflating: __MACOSX/PaDEL-Descriptor/lib/._libPaDEL-Jobs(1).jar  \n",
            "  inflating: PaDEL-Descriptor/lib/libPaDEL-Jobs.jar  \n",
            "  inflating: __MACOSX/PaDEL-Descriptor/lib/._libPaDEL-Jobs.jar  \n",
            "  inflating: PaDEL-Descriptor/lib/ambit2-core-2.4.7-SNAPSHOT(4).jar  \n",
            "  inflating: __MACOSX/PaDEL-Descriptor/lib/._ambit2-core-2.4.7-SNAPSHOT(4).jar  \n",
            "  inflating: PaDEL-Descriptor/lib/xom-1.1.jar  \n",
            "  inflating: __MACOSX/PaDEL-Descriptor/lib/._xom-1.1.jar  \n",
            "  inflating: PaDEL-Descriptor/lib/commons-cli-1.2(5).jar  \n",
            "  inflating: __MACOSX/PaDEL-Descriptor/lib/._commons-cli-1.2(5).jar  \n",
            "  inflating: PaDEL-Descriptor/lib/libPaDEL-Descriptor(2).jar  \n",
            "  inflating: __MACOSX/PaDEL-Descriptor/lib/._libPaDEL-Descriptor(2).jar  \n",
            "  inflating: PaDEL-Descriptor/lib/jgrapht-0.6.0(3).jar  \n",
            "  inflating: __MACOSX/PaDEL-Descriptor/lib/._jgrapht-0.6.0(3).jar  \n",
            "  inflating: PaDEL-Descriptor/lib/jama(7).jar  \n",
            "  inflating: __MACOSX/PaDEL-Descriptor/lib/._jama(7).jar  \n",
            "  inflating: PaDEL-Descriptor/lib/ambit2-core-2.4.7-SNAPSHOT.jar  \n",
            "  inflating: __MACOSX/PaDEL-Descriptor/lib/._ambit2-core-2.4.7-SNAPSHOT.jar  \n",
            "  inflating: PaDEL-Descriptor/lib/commons-cli-1.2(6).jar  \n",
            "  inflating: __MACOSX/PaDEL-Descriptor/lib/._commons-cli-1.2(6).jar  \n",
            "  inflating: PaDEL-Descriptor/lib/libPaDEL-Descriptor(1).jar  \n",
            "  inflating: __MACOSX/PaDEL-Descriptor/lib/._libPaDEL-Descriptor(1).jar  \n",
            "  inflating: PaDEL-Descriptor/lib/jama(4).jar  \n",
            "  inflating: __MACOSX/PaDEL-Descriptor/lib/._jama(4).jar  \n",
            "  inflating: PaDEL-Descriptor/lib/libPaDEL-Jobs(2).jar  \n",
            "  inflating: __MACOSX/PaDEL-Descriptor/lib/._libPaDEL-Jobs(2).jar  \n",
            "  inflating: PaDEL-Descriptor/lib/ambit2-smarts-2.4.7-SNAPSHOT(3).jar  \n",
            "  inflating: __MACOSX/PaDEL-Descriptor/lib/._ambit2-smarts-2.4.7-SNAPSHOT(3).jar  \n",
            "  inflating: PaDEL-Descriptor/lib/ambit2-smarts-2.4.7-SNAPSHOT(2).jar  \n",
            "  inflating: __MACOSX/PaDEL-Descriptor/lib/._ambit2-smarts-2.4.7-SNAPSHOT(2).jar  \n",
            "  inflating: PaDEL-Descriptor/lib/ambit2-smarts-2.4.7-SNAPSHOT.jar  \n",
            "  inflating: __MACOSX/PaDEL-Descriptor/lib/._ambit2-smarts-2.4.7-SNAPSHOT.jar  \n",
            "  inflating: PaDEL-Descriptor/lib/libPaDEL-Jobs(3).jar  \n",
            "  inflating: __MACOSX/PaDEL-Descriptor/lib/._libPaDEL-Jobs(3).jar  \n",
            "  inflating: PaDEL-Descriptor/lib/l2fprod-common-all(1).jar  \n",
            "  inflating: __MACOSX/PaDEL-Descriptor/lib/._l2fprod-common-all(1).jar  \n",
            "  inflating: PaDEL-Descriptor/lib/jama.jar  \n",
            "  inflating: __MACOSX/PaDEL-Descriptor/lib/._jama.jar  \n",
            "  inflating: PaDEL-Descriptor/lib/l2fprod-common-all.jar  \n",
            "  inflating: __MACOSX/PaDEL-Descriptor/lib/._l2fprod-common-all.jar  \n",
            "  inflating: PaDEL-Descriptor/lib/jama(5).jar  \n",
            "  inflating: __MACOSX/PaDEL-Descriptor/lib/._jama(5).jar  \n",
            "  inflating: PaDEL-Descriptor/lib/jgrapht-0.6.0(1).jar  \n",
            "  inflating: __MACOSX/PaDEL-Descriptor/lib/._jgrapht-0.6.0(1).jar  \n",
            "  inflating: PaDEL-Descriptor/lib/commons-cli-1.2(7).jar  \n",
            "  inflating: __MACOSX/PaDEL-Descriptor/lib/._commons-cli-1.2(7).jar  \n",
            "  inflating: PaDEL-Descriptor/lib/libPaDEL-Descriptor.jar  \n",
            "  inflating: __MACOSX/PaDEL-Descriptor/lib/._libPaDEL-Descriptor.jar  \n",
            "  inflating: PaDEL-Descriptor/lib/libPaDEL-Jobs(4).jar  \n",
            "  inflating: __MACOSX/PaDEL-Descriptor/lib/._libPaDEL-Jobs(4).jar  \n",
            "  inflating: PaDEL-Descriptor/lib/cdk-1.4.15.jar  \n",
            "  inflating: __MACOSX/PaDEL-Descriptor/lib/._cdk-1.4.15.jar  \n",
            "  inflating: PaDEL-Descriptor/lib/ambit2-smarts-2.4.7-SNAPSHOT(5).jar  \n",
            "  inflating: __MACOSX/PaDEL-Descriptor/lib/._ambit2-smarts-2.4.7-SNAPSHOT(5).jar  \n",
            "  inflating: PaDEL-Descriptor/lib/ambit2-core-2.4.7-SNAPSHOT(1).jar  \n",
            "  inflating: __MACOSX/PaDEL-Descriptor/lib/._ambit2-core-2.4.7-SNAPSHOT(1).jar  \n",
            "  inflating: PaDEL-Descriptor/lib/libPaDEL-Jobs(8).jar  \n",
            "  inflating: __MACOSX/PaDEL-Descriptor/lib/._libPaDEL-Jobs(8).jar  \n",
            "  inflating: PaDEL-Descriptor/lib/jgrapht-0.6.0(6).jar  \n",
            "  inflating: __MACOSX/PaDEL-Descriptor/lib/._jgrapht-0.6.0(6).jar  \n",
            "  inflating: PaDEL-Descriptor/lib/jama(2).jar  \n",
            "  inflating: __MACOSX/PaDEL-Descriptor/lib/._jama(2).jar  \n",
            "  inflating: PaDEL-Descriptor/lib/jama(3).jar  \n",
            "  inflating: __MACOSX/PaDEL-Descriptor/lib/._jama(3).jar  \n",
            "  inflating: PaDEL-Descriptor/lib/commons-cli-1.2(1).jar  \n",
            "  inflating: __MACOSX/PaDEL-Descriptor/lib/._commons-cli-1.2(1).jar  \n",
            "  inflating: PaDEL-Descriptor/lib/guava-17.0.jar  \n",
            "  inflating: __MACOSX/PaDEL-Descriptor/lib/._guava-17.0.jar  \n",
            "  inflating: PaDEL-Descriptor/lib/ambit2-smarts-2.4.7-SNAPSHOT(4).jar  \n",
            "  inflating: __MACOSX/PaDEL-Descriptor/lib/._ambit2-smarts-2.4.7-SNAPSHOT(4).jar  \n",
            "  inflating: PaDEL-Descriptor/lib/libPaDEL-Jobs(5).jar  \n",
            "  inflating: __MACOSX/PaDEL-Descriptor/lib/._libPaDEL-Jobs(5).jar  \n"
          ],
          "name": "stdout"
        }
      ]
    },
    {
      "cell_type": "markdown",
      "metadata": {
        "id": "QmxXXFa4wTNG"
      },
      "source": [
        "## **Load bioactivity data**"
      ]
    },
    {
      "cell_type": "markdown",
      "metadata": {
        "id": "fcBvxkPWKFRV"
      },
      "source": [
        "Download the curated ChEMBL bioactivity data that has been pre-processed from Parts 1 and 2 of this Bioinformatics Project series. Here we will be using the **bioactivity_data_3class_pIC50.csv** file that essentially contain the pIC50 values that we will be using for building a regression model."
      ]
    },
    {
      "cell_type": "code",
      "metadata": {
        "id": "JBs7QdJoubWC",
        "colab": {
          "base_uri": "https://localhost:8080/"
        },
        "outputId": "5392e678-adc6-4d16-9d64-777d4a71042b"
      },
      "source": [
        "! wget https://raw.githubusercontent.com/dataprofessor/data/master/acetylcholinesterase_04_bioactivity_data_3class_pIC50.csv"
      ],
      "execution_count": 3,
      "outputs": [
        {
          "output_type": "stream",
          "text": [
            "--2021-08-18 17:31:04--  https://raw.githubusercontent.com/dataprofessor/data/master/acetylcholinesterase_04_bioactivity_data_3class_pIC50.csv\n",
            "Resolving raw.githubusercontent.com (raw.githubusercontent.com)... 185.199.110.133, 185.199.108.133, 185.199.111.133, ...\n",
            "Connecting to raw.githubusercontent.com (raw.githubusercontent.com)|185.199.110.133|:443... connected.\n",
            "HTTP request sent, awaiting response... 200 OK\n",
            "Length: 655414 (640K) [text/plain]\n",
            "Saving to: ‘acetylcholinesterase_04_bioactivity_data_3class_pIC50.csv’\n",
            "\n",
            "acetylcholinesteras 100%[===================>] 640.05K  --.-KB/s    in 0.03s   \n",
            "\n",
            "2021-08-18 17:31:04 (21.7 MB/s) - ‘acetylcholinesterase_04_bioactivity_data_3class_pIC50.csv’ saved [655414/655414]\n",
            "\n"
          ],
          "name": "stdout"
        }
      ]
    },
    {
      "cell_type": "code",
      "metadata": {
        "id": "Fpu5C7HlwV9s"
      },
      "source": [
        "import pandas as pd"
      ],
      "execution_count": 4,
      "outputs": []
    },
    {
      "cell_type": "code",
      "metadata": {
        "id": "GCcE8J5XwjtB"
      },
      "source": [
        "df3 = pd.read_csv('acetylcholinesterase_04_bioactivity_data_3class_pIC50.csv')"
      ],
      "execution_count": 5,
      "outputs": []
    },
    {
      "cell_type": "code",
      "metadata": {
        "id": "60z_N6egNiSJ",
        "colab": {
          "base_uri": "https://localhost:8080/",
          "height": 417
        },
        "outputId": "72a8fd5b-d69a-4cf3-aa22-71c49200c58c"
      },
      "source": [
        "df3"
      ],
      "execution_count": 7,
      "outputs": [
        {
          "output_type": "execute_result",
          "data": {
            "text/html": [
              "<div>\n",
              "<style scoped>\n",
              "    .dataframe tbody tr th:only-of-type {\n",
              "        vertical-align: middle;\n",
              "    }\n",
              "\n",
              "    .dataframe tbody tr th {\n",
              "        vertical-align: top;\n",
              "    }\n",
              "\n",
              "    .dataframe thead th {\n",
              "        text-align: right;\n",
              "    }\n",
              "</style>\n",
              "<table border=\"1\" class=\"dataframe\">\n",
              "  <thead>\n",
              "    <tr style=\"text-align: right;\">\n",
              "      <th></th>\n",
              "      <th>Unnamed: 0</th>\n",
              "      <th>molecule_chembl_id</th>\n",
              "      <th>canonical_smiles</th>\n",
              "      <th>class</th>\n",
              "      <th>MW</th>\n",
              "      <th>LogP</th>\n",
              "      <th>NumHDonors</th>\n",
              "      <th>NumHAcceptors</th>\n",
              "      <th>pIC50</th>\n",
              "    </tr>\n",
              "  </thead>\n",
              "  <tbody>\n",
              "    <tr>\n",
              "      <th>0</th>\n",
              "      <td>0</td>\n",
              "      <td>CHEMBL133897</td>\n",
              "      <td>CCOc1nn(-c2cccc(OCc3ccccc3)c2)c(=O)o1</td>\n",
              "      <td>active</td>\n",
              "      <td>312.325</td>\n",
              "      <td>2.80320</td>\n",
              "      <td>0.0</td>\n",
              "      <td>6.0</td>\n",
              "      <td>6.124939</td>\n",
              "    </tr>\n",
              "    <tr>\n",
              "      <th>1</th>\n",
              "      <td>1</td>\n",
              "      <td>CHEMBL336398</td>\n",
              "      <td>O=C(N1CCCCC1)n1nc(-c2ccc(Cl)cc2)nc1SCC1CC1</td>\n",
              "      <td>active</td>\n",
              "      <td>376.913</td>\n",
              "      <td>4.55460</td>\n",
              "      <td>0.0</td>\n",
              "      <td>5.0</td>\n",
              "      <td>7.000000</td>\n",
              "    </tr>\n",
              "    <tr>\n",
              "      <th>2</th>\n",
              "      <td>2</td>\n",
              "      <td>CHEMBL131588</td>\n",
              "      <td>CN(C(=O)n1nc(-c2ccc(Cl)cc2)nc1SCC(F)(F)F)c1ccccc1</td>\n",
              "      <td>inactive</td>\n",
              "      <td>426.851</td>\n",
              "      <td>5.35740</td>\n",
              "      <td>0.0</td>\n",
              "      <td>5.0</td>\n",
              "      <td>4.301030</td>\n",
              "    </tr>\n",
              "    <tr>\n",
              "      <th>3</th>\n",
              "      <td>3</td>\n",
              "      <td>CHEMBL130628</td>\n",
              "      <td>O=C(N1CCCCC1)n1nc(-c2ccc(Cl)cc2)nc1SCC(F)(F)F</td>\n",
              "      <td>active</td>\n",
              "      <td>404.845</td>\n",
              "      <td>4.70690</td>\n",
              "      <td>0.0</td>\n",
              "      <td>5.0</td>\n",
              "      <td>6.522879</td>\n",
              "    </tr>\n",
              "    <tr>\n",
              "      <th>4</th>\n",
              "      <td>4</td>\n",
              "      <td>CHEMBL130478</td>\n",
              "      <td>CSc1nc(-c2ccc(OC(F)(F)F)cc2)nn1C(=O)N(C)C</td>\n",
              "      <td>active</td>\n",
              "      <td>346.334</td>\n",
              "      <td>3.09530</td>\n",
              "      <td>0.0</td>\n",
              "      <td>6.0</td>\n",
              "      <td>6.096910</td>\n",
              "    </tr>\n",
              "    <tr>\n",
              "      <th>...</th>\n",
              "      <td>...</td>\n",
              "      <td>...</td>\n",
              "      <td>...</td>\n",
              "      <td>...</td>\n",
              "      <td>...</td>\n",
              "      <td>...</td>\n",
              "      <td>...</td>\n",
              "      <td>...</td>\n",
              "      <td>...</td>\n",
              "    </tr>\n",
              "    <tr>\n",
              "      <th>4690</th>\n",
              "      <td>4690</td>\n",
              "      <td>CHEMBL4293155</td>\n",
              "      <td>CC(C)(C)c1cc(/C=C/C(=O)NCCC2CCN(Cc3ccccc3Cl)CC...</td>\n",
              "      <td>intermediate</td>\n",
              "      <td>511.150</td>\n",
              "      <td>7.07230</td>\n",
              "      <td>2.0</td>\n",
              "      <td>3.0</td>\n",
              "      <td>5.612610</td>\n",
              "    </tr>\n",
              "    <tr>\n",
              "      <th>4691</th>\n",
              "      <td>4691</td>\n",
              "      <td>CHEMBL4282558</td>\n",
              "      <td>CC(C)(C)c1cc(/C=C/C(=O)NCCC2CCN(Cc3cccc(Cl)c3)...</td>\n",
              "      <td>intermediate</td>\n",
              "      <td>511.150</td>\n",
              "      <td>7.07230</td>\n",
              "      <td>2.0</td>\n",
              "      <td>3.0</td>\n",
              "      <td>5.595166</td>\n",
              "    </tr>\n",
              "    <tr>\n",
              "      <th>4692</th>\n",
              "      <td>4692</td>\n",
              "      <td>CHEMBL4281727</td>\n",
              "      <td>CC(C)(C)c1cc(/C=C/C(=O)NCCC2CCN(Cc3ccc(Br)cc3)...</td>\n",
              "      <td>intermediate</td>\n",
              "      <td>555.601</td>\n",
              "      <td>7.18140</td>\n",
              "      <td>2.0</td>\n",
              "      <td>3.0</td>\n",
              "      <td>5.419075</td>\n",
              "    </tr>\n",
              "    <tr>\n",
              "      <th>4693</th>\n",
              "      <td>4693</td>\n",
              "      <td>CHEMBL4292349</td>\n",
              "      <td>CC(C)(C)c1cc(/C=C/C(=O)NCCC2CCN(Cc3cccc([N+](=...</td>\n",
              "      <td>intermediate</td>\n",
              "      <td>521.702</td>\n",
              "      <td>6.32710</td>\n",
              "      <td>2.0</td>\n",
              "      <td>5.0</td>\n",
              "      <td>5.460924</td>\n",
              "    </tr>\n",
              "    <tr>\n",
              "      <th>4694</th>\n",
              "      <td>4694</td>\n",
              "      <td>CHEMBL4278260</td>\n",
              "      <td>CC(C)(C)c1cc(/C=C/C(=O)NCCC2CCN(Cc3ccc(C#N)cc3...</td>\n",
              "      <td>intermediate</td>\n",
              "      <td>501.715</td>\n",
              "      <td>6.29058</td>\n",
              "      <td>2.0</td>\n",
              "      <td>4.0</td>\n",
              "      <td>5.555955</td>\n",
              "    </tr>\n",
              "  </tbody>\n",
              "</table>\n",
              "<p>4695 rows × 9 columns</p>\n",
              "</div>"
            ],
            "text/plain": [
              "      Unnamed: 0 molecule_chembl_id  ... NumHAcceptors     pIC50\n",
              "0              0       CHEMBL133897  ...           6.0  6.124939\n",
              "1              1       CHEMBL336398  ...           5.0  7.000000\n",
              "2              2       CHEMBL131588  ...           5.0  4.301030\n",
              "3              3       CHEMBL130628  ...           5.0  6.522879\n",
              "4              4       CHEMBL130478  ...           6.0  6.096910\n",
              "...          ...                ...  ...           ...       ...\n",
              "4690        4690      CHEMBL4293155  ...           3.0  5.612610\n",
              "4691        4691      CHEMBL4282558  ...           3.0  5.595166\n",
              "4692        4692      CHEMBL4281727  ...           3.0  5.419075\n",
              "4693        4693      CHEMBL4292349  ...           5.0  5.460924\n",
              "4694        4694      CHEMBL4278260  ...           4.0  5.555955\n",
              "\n",
              "[4695 rows x 9 columns]"
            ]
          },
          "metadata": {},
          "execution_count": 7
        }
      ]
    },
    {
      "cell_type": "code",
      "metadata": {
        "id": "BJDJkY43R-9F"
      },
      "source": [
        "selection = ['canonical_smiles','molecule_chembl_id']\n",
        "df3_selection = df3[selection]\n",
        "df3_selection.to_csv('molecule.smi', sep='\\t', index=False, header=False)"
      ],
      "execution_count": 6,
      "outputs": []
    },
    {
      "cell_type": "code",
      "metadata": {
        "id": "nRSCoPVDSkf5",
        "colab": {
          "base_uri": "https://localhost:8080/"
        },
        "outputId": "0d39aa19-7ff1-4621-ff00-2b32c60eb7c3"
      },
      "source": [
        "! cat molecule.smi | head -5"
      ],
      "execution_count": 8,
      "outputs": [
        {
          "output_type": "stream",
          "text": [
            "CCOc1nn(-c2cccc(OCc3ccccc3)c2)c(=O)o1\tCHEMBL133897\n",
            "O=C(N1CCCCC1)n1nc(-c2ccc(Cl)cc2)nc1SCC1CC1\tCHEMBL336398\n",
            "CN(C(=O)n1nc(-c2ccc(Cl)cc2)nc1SCC(F)(F)F)c1ccccc1\tCHEMBL131588\n",
            "O=C(N1CCCCC1)n1nc(-c2ccc(Cl)cc2)nc1SCC(F)(F)F\tCHEMBL130628\n",
            "CSc1nc(-c2ccc(OC(F)(F)F)cc2)nn1C(=O)N(C)C\tCHEMBL130478\n"
          ],
          "name": "stdout"
        }
      ]
    },
    {
      "cell_type": "code",
      "metadata": {
        "id": "GlYaJ9pzUGjS",
        "colab": {
          "base_uri": "https://localhost:8080/"
        },
        "outputId": "853b7d6f-f6a1-4fd6-c218-cb33a77ac384"
      },
      "source": [
        "! cat molecule.smi | wc -l"
      ],
      "execution_count": 9,
      "outputs": [
        {
          "output_type": "stream",
          "text": [
            "4695\n"
          ],
          "name": "stdout"
        }
      ]
    },
    {
      "cell_type": "markdown",
      "metadata": {
        "id": "nFpLoNRHeRa6"
      },
      "source": [
        "# **Let's download the CSV file to your local computer for the Part 3B (Model Building).**"
      ]
    }
  ]
}